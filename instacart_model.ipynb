{
  "nbformat": 4,
  "nbformat_minor": 0,
  "metadata": {
    "colab": {
      "name": "instacart_model.ipynb",
      "version": "0.3.2",
      "provenance": [],
      "collapsed_sections": [],
      "include_colab_link": true
    },
    "kernelspec": {
      "name": "python3",
      "display_name": "Python 3"
    }
  },
  "cells": [
    {
      "cell_type": "markdown",
      "metadata": {
        "id": "view-in-github",
        "colab_type": "text"
      },
      "source": [
        "<a href=\"https://colab.research.google.com/github/chauhan01/Airlines-customer-segmentation-clustering/blob/master/instacart_model.ipynb\" target=\"_parent\"><img src=\"https://colab.research.google.com/assets/colab-badge.svg\" alt=\"Open In Colab\"/></a>"
      ]
    },
    {
      "cell_type": "code",
      "metadata": {
        "id": "oqmFjRLQ9hl3",
        "colab_type": "code",
        "outputId": "6f5d1319-48ab-4ebc-e219-dd6634a94064",
        "colab": {
          "base_uri": "https://localhost:8080/",
          "height": 128
        }
      },
      "source": [
        "# mounting google drive\n",
        "from google.colab import drive\n",
        "drive.mount('/content/drive/')"
      ],
      "execution_count": 1,
      "outputs": [
        {
          "output_type": "stream",
          "text": [
            "Go to this URL in a browser: https://accounts.google.com/o/oauth2/auth?client_id=947318989803-6bn6qk8qdgf4n4g3pfee6491hc0brc4i.apps.googleusercontent.com&redirect_uri=urn%3Aietf%3Awg%3Aoauth%3A2.0%3Aoob&scope=email%20https%3A%2F%2Fwww.googleapis.com%2Fauth%2Fdocs.test%20https%3A%2F%2Fwww.googleapis.com%2Fauth%2Fdrive%20https%3A%2F%2Fwww.googleapis.com%2Fauth%2Fdrive.photos.readonly%20https%3A%2F%2Fwww.googleapis.com%2Fauth%2Fpeopleapi.readonly&response_type=code\n",
            "\n",
            "Enter your authorization code:\n",
            "··········\n",
            "Mounted at /content/drive/\n"
          ],
          "name": "stdout"
        }
      ]
    },
    {
      "cell_type": "code",
      "metadata": {
        "id": "FUZEjDDS9yVl",
        "colab_type": "code",
        "outputId": "5220e546-2c7c-4c2c-d828-8041701917ed",
        "colab": {
          "base_uri": "https://localhost:8080/",
          "height": 35
        }
      },
      "source": [
        "# setting up working directory\n",
        "\n",
        "%cd /content/drive/My Drive/Data/Instacart"
      ],
      "execution_count": 2,
      "outputs": [
        {
          "output_type": "stream",
          "text": [
            "/content/drive/My Drive/Data/Instacart\n"
          ],
          "name": "stdout"
        }
      ]
    },
    {
      "cell_type": "code",
      "metadata": {
        "id": "t33buNVCEndj",
        "colab_type": "code",
        "colab": {}
      },
      "source": [
        "#importing libraries\n",
        "\n",
        "import pandas as pd\n",
        "import numpy as np"
      ],
      "execution_count": 0,
      "outputs": []
    },
    {
      "cell_type": "code",
      "metadata": {
        "id": "hXl_c1JQEz0f",
        "colab_type": "code",
        "colab": {}
      },
      "source": [
        "# reding csv files\n",
        "\n",
        "train = pd.read_csv('train.csv')\n",
        "test = pd.read_csv('test.csv')"
      ],
      "execution_count": 0,
      "outputs": []
    },
    {
      "cell_type": "code",
      "metadata": {
        "id": "KYZTOCu4FETI",
        "colab_type": "code",
        "outputId": "dd7adf17-06b9-4810-c643-28dc09533159",
        "colab": {
          "base_uri": "https://localhost:8080/",
          "height": 201
        }
      },
      "source": [
        "train.head(2)"
      ],
      "execution_count": 5,
      "outputs": [
        {
          "output_type": "execute_result",
          "data": {
            "text/html": [
              "<div>\n",
              "<style scoped>\n",
              "    .dataframe tbody tr th:only-of-type {\n",
              "        vertical-align: middle;\n",
              "    }\n",
              "\n",
              "    .dataframe tbody tr th {\n",
              "        vertical-align: top;\n",
              "    }\n",
              "\n",
              "    .dataframe thead th {\n",
              "        text-align: right;\n",
              "    }\n",
              "</style>\n",
              "<table border=\"1\" class=\"dataframe\">\n",
              "  <thead>\n",
              "    <tr style=\"text-align: right;\">\n",
              "      <th></th>\n",
              "      <th>user_id</th>\n",
              "      <th>product_id</th>\n",
              "      <th>product_bought_count</th>\n",
              "      <th>total_orders</th>\n",
              "      <th>average_duration_btw_orders</th>\n",
              "      <th>total_products_ordered</th>\n",
              "      <th>num_distinct_products</th>\n",
              "      <th>avg_products_in_basket</th>\n",
              "      <th>orders</th>\n",
              "      <th>reorders</th>\n",
              "      <th>reorder_rate</th>\n",
              "      <th>avg_pos_cart</th>\n",
              "      <th>aisle</th>\n",
              "      <th>department</th>\n",
              "      <th>eval_set</th>\n",
              "      <th>order_id</th>\n",
              "      <th>reordered</th>\n",
              "    </tr>\n",
              "  </thead>\n",
              "  <tbody>\n",
              "    <tr>\n",
              "      <th>0</th>\n",
              "      <td>1</td>\n",
              "      <td>196</td>\n",
              "      <td>10</td>\n",
              "      <td>11</td>\n",
              "      <td>19.0</td>\n",
              "      <td>59</td>\n",
              "      <td>18</td>\n",
              "      <td>5.363636</td>\n",
              "      <td>35791</td>\n",
              "      <td>27791</td>\n",
              "      <td>0.776480</td>\n",
              "      <td>3.721774</td>\n",
              "      <td>soft drinks</td>\n",
              "      <td>beverages</td>\n",
              "      <td>train</td>\n",
              "      <td>1187899</td>\n",
              "      <td>1.0</td>\n",
              "    </tr>\n",
              "    <tr>\n",
              "      <th>1</th>\n",
              "      <td>1</td>\n",
              "      <td>10258</td>\n",
              "      <td>9</td>\n",
              "      <td>11</td>\n",
              "      <td>19.0</td>\n",
              "      <td>59</td>\n",
              "      <td>18</td>\n",
              "      <td>5.363636</td>\n",
              "      <td>1946</td>\n",
              "      <td>1389</td>\n",
              "      <td>0.713772</td>\n",
              "      <td>4.277492</td>\n",
              "      <td>nuts seeds dried fruit</td>\n",
              "      <td>snacks</td>\n",
              "      <td>train</td>\n",
              "      <td>1187899</td>\n",
              "      <td>1.0</td>\n",
              "    </tr>\n",
              "  </tbody>\n",
              "</table>\n",
              "</div>"
            ],
            "text/plain": [
              "   user_id  product_id  product_bought_count  ...  eval_set  order_id  reordered\n",
              "0        1         196                    10  ...     train   1187899        1.0\n",
              "1        1       10258                     9  ...     train   1187899        1.0\n",
              "\n",
              "[2 rows x 17 columns]"
            ]
          },
          "metadata": {
            "tags": []
          },
          "execution_count": 5
        }
      ]
    },
    {
      "cell_type": "code",
      "metadata": {
        "id": "RTfsxkYVGET7",
        "colab_type": "code",
        "outputId": "5655bf1b-dd05-4161-c577-04370a4358de",
        "colab": {
          "base_uri": "https://localhost:8080/",
          "height": 53
        }
      },
      "source": [
        "print('train shape is ', train.shape)\n",
        "print('test shape is ', test.shape)"
      ],
      "execution_count": 6,
      "outputs": [
        {
          "output_type": "stream",
          "text": [
            "train shape is  (8474661, 17)\n",
            "test shape is  (4833292, 16)\n"
          ],
          "name": "stdout"
        }
      ]
    },
    {
      "cell_type": "code",
      "metadata": {
        "id": "mbve5nEaIPAn",
        "colab_type": "code",
        "outputId": "d8dfd906-7f55-4a8c-e9d8-23f3dec25e05",
        "colab": {
          "base_uri": "https://localhost:8080/",
          "height": 726
        }
      },
      "source": [
        "# checking for missing values\n",
        "print('missing values in train set\\n',train.isna().sum())\n",
        "print('\\n\\nmissing values in test set\\n',test.isna().sum())"
      ],
      "execution_count": 7,
      "outputs": [
        {
          "output_type": "stream",
          "text": [
            "missing values in train set\n",
            " user_id                              0\n",
            "product_id                           0\n",
            "product_bought_count                 0\n",
            "total_orders                         0\n",
            "average_duration_btw_orders          0\n",
            "total_products_ordered               0\n",
            "num_distinct_products                0\n",
            "avg_products_in_basket               0\n",
            "orders                               0\n",
            "reorders                             0\n",
            "reorder_rate                         0\n",
            "avg_pos_cart                         0\n",
            "aisle                                0\n",
            "department                           0\n",
            "eval_set                             0\n",
            "order_id                             0\n",
            "reordered                      7645837\n",
            "dtype: int64\n",
            "\n",
            "\n",
            "missing values in test set\n",
            " user_id                        0\n",
            "product_id                     0\n",
            "product_bought_count           0\n",
            "total_orders                   0\n",
            "average_duration_btw_orders    0\n",
            "total_products_ordered         0\n",
            "num_distinct_products          0\n",
            "avg_products_in_basket         0\n",
            "orders                         0\n",
            "reorders                       0\n",
            "reorder_rate                   0\n",
            "avg_pos_cart                   0\n",
            "aisle                          0\n",
            "department                     0\n",
            "eval_set                       0\n",
            "order_id                       0\n",
            "dtype: int64\n"
          ],
          "name": "stdout"
        }
      ]
    },
    {
      "cell_type": "markdown",
      "metadata": {
        "id": "CXeYBEloWqDo",
        "colab_type": "text"
      },
      "source": [
        "**Missing value treatment**\n",
        "\n",
        "There are missing values in target variable 'reordered' which indicates that these products were not reordered.\n",
        "so filling these missing values with zero."
      ]
    },
    {
      "cell_type": "code",
      "metadata": {
        "id": "CpHWvfzmGa7U",
        "colab_type": "code",
        "colab": {}
      },
      "source": [
        "train['reordered'] = train['reordered'].fillna(value = 0)"
      ],
      "execution_count": 0,
      "outputs": []
    },
    {
      "cell_type": "code",
      "metadata": {
        "id": "uk0pdejRXFKG",
        "colab_type": "code",
        "colab": {}
      },
      "source": [
        "# dropping useless column 'order_id'\n",
        "\n",
        "train.drop(['order_id', 'eval_set', 'department', 'aisle'], axis = 1, inplace = True)\n",
        "test.drop(['order_id', 'eval_set', 'department', 'aisle'], axis = 1, inplace = True)\n",
        "\n",
        "#setting index\n",
        "\n",
        "train = train.set_index(['user_id', 'product_id'])\n",
        "test = test.set_index(['user_id', 'product_id'])"
      ],
      "execution_count": 0,
      "outputs": []
    },
    {
      "cell_type": "markdown",
      "metadata": {
        "id": "5ZVU2ID5kfXS",
        "colab_type": "text"
      },
      "source": [
        "**Importing Tensorflow**"
      ]
    },
    {
      "cell_type": "code",
      "metadata": {
        "id": "_eaU5tVIY2N2",
        "colab_type": "code",
        "colab": {}
      },
      "source": [
        "import tensorflow as tf\n",
        "tf.logging.set_verbosity(tf.logging.ERROR)\n",
        "tf.set_random_seed(12)\n",
        "from sklearn.model_selection import train_test_split"
      ],
      "execution_count": 0,
      "outputs": []
    },
    {
      "cell_type": "code",
      "metadata": {
        "id": "AiAlrACJadVi",
        "colab_type": "code",
        "colab": {}
      },
      "source": [
        "# seprating out the target variable\n",
        "\n",
        "target = train['reordered']\n",
        "train_df = train.drop('reordered', axis = 1)"
      ],
      "execution_count": 0,
      "outputs": []
    },
    {
      "cell_type": "code",
      "metadata": {
        "id": "V6cr2LK4eKPk",
        "colab_type": "code",
        "colab": {}
      },
      "source": [
        "#feature columns\n",
        "features = train_df.columns"
      ],
      "execution_count": 0,
      "outputs": []
    },
    {
      "cell_type": "code",
      "metadata": {
        "id": "eY0PS1oPZ_nV",
        "colab_type": "code",
        "outputId": "3f357e8a-d3e6-4fe1-d0f3-77fc377cfe8b",
        "colab": {
          "base_uri": "https://localhost:8080/",
          "height": 90
        }
      },
      "source": [
        "# spliting data in train and validation set\n",
        "\n",
        "train_x, val_x, train_y, val_y  = train_test_split(train_df, target, test_size = 0.3, random_state = 12)\n",
        "\n",
        "print('train_x shape is ', train_x.shape)\n",
        "print('train_y shape is ', train_y.shape)\n",
        "print('val_x shape is ', val_x.shape)\n",
        "print('val_y shape is ', val_y.shape)"
      ],
      "execution_count": 13,
      "outputs": [
        {
          "output_type": "stream",
          "text": [
            "train_x shape is  (5932262, 10)\n",
            "train_y shape is  (5932262,)\n",
            "val_x shape is  (2542399, 10)\n",
            "val_y shape is  (2542399,)\n"
          ],
          "name": "stdout"
        }
      ]
    },
    {
      "cell_type": "markdown",
      "metadata": {
        "id": "ZKQNkehajdE3",
        "colab_type": "text"
      },
      "source": [
        "## **Tensorflow Gradient boosted tree model**"
      ]
    },
    {
      "cell_type": "code",
      "metadata": {
        "id": "Mkp1-xq4bZuP",
        "colab_type": "code",
        "colab": {}
      },
      "source": [
        "#preparing features\n",
        "fc = tf.feature_column\n",
        "feature_columns = []\n",
        "\n",
        "for feature_name in features:\n",
        "  feature_columns.append(fc.numeric_column(feature_name,\n",
        "                                           dtype=tf.float32))\n"
      ],
      "execution_count": 0,
      "outputs": []
    },
    {
      "cell_type": "code",
      "metadata": {
        "id": "OYAkDz1zciIE",
        "colab_type": "code",
        "colab": {}
      },
      "source": [
        "\n",
        "# creating input function\n",
        "batch_size = 4096\n",
        "\n",
        "def make_input_fn(X, y, n_epochs=None, shuffle=True):\n",
        "  def input_fn():\n",
        "    dataset = tf.data.Dataset.from_tensor_slices((X.to_dict(orient='list'), y))\n",
        "    if shuffle:\n",
        "      dataset = dataset.shuffle(batch_size)\n",
        "       \n",
        "    dataset = (dataset\n",
        "      .repeat(n_epochs)\n",
        "      .batch(batch_size)) \n",
        "    return dataset\n",
        "  return input_fn\n",
        "\n",
        "# Training and evaluation input functions.\n",
        "train_input_fn = make_input_fn(train_x, train_y)\n",
        "eval_input_fn = make_input_fn(val_x, val_y, shuffle=False, n_epochs=1)\n"
      ],
      "execution_count": 0,
      "outputs": []
    },
    {
      "cell_type": "code",
      "metadata": {
        "id": "jltrWizifwYO",
        "colab_type": "code",
        "outputId": "ead6c54d-c6c6-49ce-c531-845377fe8ea3",
        "colab": {
          "base_uri": "https://localhost:8080/",
          "height": 394
        }
      },
      "source": [
        "params = {\n",
        "  'n_trees': 50,\n",
        "  'max_depth': 3,\n",
        "  'n_batches_per_layer': 1,\n",
        "  'center_bias': True\n",
        "}\n",
        "\n",
        "est = tf.estimator.BoostedTreesClassifier(feature_columns, **params)\n",
        "est.train(train_input_fn, max_steps=100)\n",
        "results = est.evaluate(eval_input_fn)\n",
        "pd.Series(results).to_frame()\n"
      ],
      "execution_count": 16,
      "outputs": [
        {
          "output_type": "execute_result",
          "data": {
            "text/html": [
              "<div>\n",
              "<style scoped>\n",
              "    .dataframe tbody tr th:only-of-type {\n",
              "        vertical-align: middle;\n",
              "    }\n",
              "\n",
              "    .dataframe tbody tr th {\n",
              "        vertical-align: top;\n",
              "    }\n",
              "\n",
              "    .dataframe thead th {\n",
              "        text-align: right;\n",
              "    }\n",
              "</style>\n",
              "<table border=\"1\" class=\"dataframe\">\n",
              "  <thead>\n",
              "    <tr style=\"text-align: right;\">\n",
              "      <th></th>\n",
              "      <th>0</th>\n",
              "    </tr>\n",
              "  </thead>\n",
              "  <tbody>\n",
              "    <tr>\n",
              "      <th>accuracy</th>\n",
              "      <td>0.904732</td>\n",
              "    </tr>\n",
              "    <tr>\n",
              "      <th>accuracy_baseline</th>\n",
              "      <td>0.902548</td>\n",
              "    </tr>\n",
              "    <tr>\n",
              "      <th>auc</th>\n",
              "      <td>0.789215</td>\n",
              "    </tr>\n",
              "    <tr>\n",
              "      <th>auc_precision_recall</th>\n",
              "      <td>0.332072</td>\n",
              "    </tr>\n",
              "    <tr>\n",
              "      <th>average_loss</th>\n",
              "      <td>0.277762</td>\n",
              "    </tr>\n",
              "    <tr>\n",
              "      <th>label/mean</th>\n",
              "      <td>0.097452</td>\n",
              "    </tr>\n",
              "    <tr>\n",
              "      <th>loss</th>\n",
              "      <td>0.277766</td>\n",
              "    </tr>\n",
              "    <tr>\n",
              "      <th>precision</th>\n",
              "      <td>0.570979</td>\n",
              "    </tr>\n",
              "    <tr>\n",
              "      <th>prediction/mean</th>\n",
              "      <td>0.097812</td>\n",
              "    </tr>\n",
              "    <tr>\n",
              "      <th>recall</th>\n",
              "      <td>0.090131</td>\n",
              "    </tr>\n",
              "    <tr>\n",
              "      <th>global_step</th>\n",
              "      <td>100.000000</td>\n",
              "    </tr>\n",
              "  </tbody>\n",
              "</table>\n",
              "</div>"
            ],
            "text/plain": [
              "                               0\n",
              "accuracy                0.904732\n",
              "accuracy_baseline       0.902548\n",
              "auc                     0.789215\n",
              "auc_precision_recall    0.332072\n",
              "average_loss            0.277762\n",
              "label/mean              0.097452\n",
              "loss                    0.277766\n",
              "precision               0.570979\n",
              "prediction/mean         0.097812\n",
              "recall                  0.090131\n",
              "global_step           100.000000"
            ]
          },
          "metadata": {
            "tags": []
          },
          "execution_count": 16
        }
      ]
    },
    {
      "cell_type": "markdown",
      "metadata": {
        "id": "L9uA12x-jvUe",
        "colab_type": "text"
      },
      "source": [
        "Preparing test data for prediction"
      ]
    },
    {
      "cell_type": "code",
      "metadata": {
        "id": "_v2Ngo20OT_W",
        "colab_type": "code",
        "colab": {}
      },
      "source": [
        "test_input_fn = lambda: tf.data.Dataset.from_tensors(dict(test))\n"
      ],
      "execution_count": 0,
      "outputs": []
    },
    {
      "cell_type": "markdown",
      "metadata": {
        "id": "cvdYuLDZj1iT",
        "colab_type": "text"
      },
      "source": [
        "Making prediction for test data"
      ]
    },
    {
      "cell_type": "code",
      "metadata": {
        "id": "PV7sxDl5eSxr",
        "colab_type": "code",
        "colab": {}
      },
      "source": [
        "pred_test = list(est.predict(test_input_fn))\n",
        "preds = np.array([pred['class_ids'] for pred in pred_test]).ravel()"
      ],
      "execution_count": 0,
      "outputs": []
    },
    {
      "cell_type": "markdown",
      "metadata": {
        "id": "n2Ani9oKkGe4",
        "colab_type": "text"
      },
      "source": [
        "**Preparing data for submission file**"
      ]
    },
    {
      "cell_type": "code",
      "metadata": {
        "id": "4NPfzBsFewHU",
        "colab_type": "code",
        "colab": {
          "base_uri": "https://localhost:8080/",
          "height": 206
        },
        "outputId": "7dee0263-a24a-4f55-d0da-4d03ea544ffb"
      },
      "source": [
        "sub = pd.read_csv('sample_submission.csv')\n",
        "sub.head()"
      ],
      "execution_count": 19,
      "outputs": [
        {
          "output_type": "execute_result",
          "data": {
            "text/html": [
              "<div>\n",
              "<style scoped>\n",
              "    .dataframe tbody tr th:only-of-type {\n",
              "        vertical-align: middle;\n",
              "    }\n",
              "\n",
              "    .dataframe tbody tr th {\n",
              "        vertical-align: top;\n",
              "    }\n",
              "\n",
              "    .dataframe thead th {\n",
              "        text-align: right;\n",
              "    }\n",
              "</style>\n",
              "<table border=\"1\" class=\"dataframe\">\n",
              "  <thead>\n",
              "    <tr style=\"text-align: right;\">\n",
              "      <th></th>\n",
              "      <th>order_id</th>\n",
              "      <th>products</th>\n",
              "    </tr>\n",
              "  </thead>\n",
              "  <tbody>\n",
              "    <tr>\n",
              "      <th>0</th>\n",
              "      <td>17</td>\n",
              "      <td>39276 29259</td>\n",
              "    </tr>\n",
              "    <tr>\n",
              "      <th>1</th>\n",
              "      <td>34</td>\n",
              "      <td>39276 29259</td>\n",
              "    </tr>\n",
              "    <tr>\n",
              "      <th>2</th>\n",
              "      <td>137</td>\n",
              "      <td>39276 29259</td>\n",
              "    </tr>\n",
              "    <tr>\n",
              "      <th>3</th>\n",
              "      <td>182</td>\n",
              "      <td>39276 29259</td>\n",
              "    </tr>\n",
              "    <tr>\n",
              "      <th>4</th>\n",
              "      <td>257</td>\n",
              "      <td>39276 29259</td>\n",
              "    </tr>\n",
              "  </tbody>\n",
              "</table>\n",
              "</div>"
            ],
            "text/plain": [
              "   order_id     products\n",
              "0        17  39276 29259\n",
              "1        34  39276 29259\n",
              "2       137  39276 29259\n",
              "3       182  39276 29259\n",
              "4       257  39276 29259"
            ]
          },
          "metadata": {
            "tags": []
          },
          "execution_count": 19
        }
      ]
    },
    {
      "cell_type": "code",
      "metadata": {
        "id": "Jpi4jPuKfAnw",
        "colab_type": "code",
        "colab": {}
      },
      "source": [
        "del sub, train, train_x, train_y, val_x, val_y\n",
        "test['prediction'] = preds"
      ],
      "execution_count": 0,
      "outputs": []
    },
    {
      "cell_type": "code",
      "metadata": {
        "id": "J8QANfLHUdEl",
        "colab_type": "code",
        "colab": {}
      },
      "source": [
        "test = test.reset_index()\n",
        "sub_df = test[['user_id', 'product_id', 'prediction']]\n",
        "del test, preds"
      ],
      "execution_count": 0,
      "outputs": []
    },
    {
      "cell_type": "code",
      "metadata": {
        "id": "uKUKhasZVRSC",
        "colab_type": "code",
        "colab": {}
      },
      "source": [
        "# getting test user_id and order_id\n",
        "\n",
        "orders_df = pd.read_csv('orders.csv')\n",
        "test_orders = orders_df.loc[orders_df.eval_set=='test',(\"user_id\", \"order_id\") ]\n",
        "del orders_df"
      ],
      "execution_count": 0,
      "outputs": []
    },
    {
      "cell_type": "code",
      "metadata": {
        "id": "gPa1xPMBWAki",
        "colab_type": "code",
        "colab": {
          "base_uri": "https://localhost:8080/",
          "height": 206
        },
        "outputId": "e8e68410-1b12-44bd-9ece-6f646253279b"
      },
      "source": [
        "sub_df = sub_df.merge(test_orders, on='user_id', how='left')\n",
        "sub_df.head()"
      ],
      "execution_count": 23,
      "outputs": [
        {
          "output_type": "execute_result",
          "data": {
            "text/html": [
              "<div>\n",
              "<style scoped>\n",
              "    .dataframe tbody tr th:only-of-type {\n",
              "        vertical-align: middle;\n",
              "    }\n",
              "\n",
              "    .dataframe tbody tr th {\n",
              "        vertical-align: top;\n",
              "    }\n",
              "\n",
              "    .dataframe thead th {\n",
              "        text-align: right;\n",
              "    }\n",
              "</style>\n",
              "<table border=\"1\" class=\"dataframe\">\n",
              "  <thead>\n",
              "    <tr style=\"text-align: right;\">\n",
              "      <th></th>\n",
              "      <th>user_id</th>\n",
              "      <th>product_id</th>\n",
              "      <th>prediction</th>\n",
              "      <th>order_id</th>\n",
              "    </tr>\n",
              "  </thead>\n",
              "  <tbody>\n",
              "    <tr>\n",
              "      <th>0</th>\n",
              "      <td>3</td>\n",
              "      <td>248</td>\n",
              "      <td>0</td>\n",
              "      <td>2774568</td>\n",
              "    </tr>\n",
              "    <tr>\n",
              "      <th>1</th>\n",
              "      <td>3</td>\n",
              "      <td>1005</td>\n",
              "      <td>0</td>\n",
              "      <td>2774568</td>\n",
              "    </tr>\n",
              "    <tr>\n",
              "      <th>2</th>\n",
              "      <td>3</td>\n",
              "      <td>1819</td>\n",
              "      <td>0</td>\n",
              "      <td>2774568</td>\n",
              "    </tr>\n",
              "    <tr>\n",
              "      <th>3</th>\n",
              "      <td>3</td>\n",
              "      <td>7503</td>\n",
              "      <td>0</td>\n",
              "      <td>2774568</td>\n",
              "    </tr>\n",
              "    <tr>\n",
              "      <th>4</th>\n",
              "      <td>3</td>\n",
              "      <td>8021</td>\n",
              "      <td>0</td>\n",
              "      <td>2774568</td>\n",
              "    </tr>\n",
              "  </tbody>\n",
              "</table>\n",
              "</div>"
            ],
            "text/plain": [
              "   user_id  product_id  prediction  order_id\n",
              "0        3         248           0   2774568\n",
              "1        3        1005           0   2774568\n",
              "2        3        1819           0   2774568\n",
              "3        3        7503           0   2774568\n",
              "4        3        8021           0   2774568"
            ]
          },
          "metadata": {
            "tags": []
          },
          "execution_count": 23
        }
      ]
    },
    {
      "cell_type": "code",
      "metadata": {
        "id": "s0mcfVQwWLDL",
        "colab_type": "code",
        "colab": {}
      },
      "source": [
        "# dropping user_id column and converting product id to integer\n",
        "\n",
        "sub_df.drop('user_id', axis = 1, inplace = True)\n",
        "sub_df.product_id = sub_df.product_id.astype(int)"
      ],
      "execution_count": 0,
      "outputs": []
    },
    {
      "cell_type": "code",
      "metadata": {
        "id": "GbLFIR-8Wq7Y",
        "colab_type": "code",
        "colab": {}
      },
      "source": [
        "# creating dictonary to store order_id and product_id of the products that each order will contain\n",
        "\n",
        "dic = dict()\n",
        "for row in sub_df.itertuples():\n",
        "    if row.prediction== 1:\n",
        "        try:\n",
        "            dic[row.order_id] += ' ' + str(row.product_id)\n",
        "        except:\n",
        "            dic[row.order_id] = str(row.product_id)\n",
        "\n",
        "for order in sub_df.order_id:\n",
        "    if order not in dic:\n",
        "        dic[order] = 'None'"
      ],
      "execution_count": 0,
      "outputs": []
    },
    {
      "cell_type": "markdown",
      "metadata": {
        "id": "zdXjIinAkQPG",
        "colab_type": "text"
      },
      "source": [
        "**Creating submission**"
      ]
    },
    {
      "cell_type": "code",
      "metadata": {
        "id": "RZEPoZklXUKm",
        "colab_type": "code",
        "colab": {
          "base_uri": "https://localhost:8080/",
          "height": 206
        },
        "outputId": "ead9fc8d-3878-4702-ed75-c1dc413ff7cf"
      },
      "source": [
        "#Convert the dictionary into a DataFrame\n",
        "sub_df = pd.DataFrame.from_dict(dic, orient='index')\n",
        "\n",
        "#Reset index\n",
        "sub_df.reset_index(inplace=True)\n",
        "#Set column names\n",
        "sub_df.columns = ['order_id', 'products']\n",
        "\n",
        "sub_df.head()"
      ],
      "execution_count": 28,
      "outputs": [
        {
          "output_type": "execute_result",
          "data": {
            "text/html": [
              "<div>\n",
              "<style scoped>\n",
              "    .dataframe tbody tr th:only-of-type {\n",
              "        vertical-align: middle;\n",
              "    }\n",
              "\n",
              "    .dataframe tbody tr th {\n",
              "        vertical-align: top;\n",
              "    }\n",
              "\n",
              "    .dataframe thead th {\n",
              "        text-align: right;\n",
              "    }\n",
              "</style>\n",
              "<table border=\"1\" class=\"dataframe\">\n",
              "  <thead>\n",
              "    <tr style=\"text-align: right;\">\n",
              "      <th></th>\n",
              "      <th>order_id</th>\n",
              "      <th>products</th>\n",
              "    </tr>\n",
              "  </thead>\n",
              "  <tbody>\n",
              "    <tr>\n",
              "      <th>0</th>\n",
              "      <td>1528013</td>\n",
              "      <td>21903</td>\n",
              "    </tr>\n",
              "    <tr>\n",
              "      <th>1</th>\n",
              "      <td>1376945</td>\n",
              "      <td>14947 27959</td>\n",
              "    </tr>\n",
              "    <tr>\n",
              "      <th>2</th>\n",
              "      <td>2161313</td>\n",
              "      <td>37710</td>\n",
              "    </tr>\n",
              "    <tr>\n",
              "      <th>3</th>\n",
              "      <td>1416320</td>\n",
              "      <td>5134 21903</td>\n",
              "    </tr>\n",
              "    <tr>\n",
              "      <th>4</th>\n",
              "      <td>1980631</td>\n",
              "      <td>6184 13575</td>\n",
              "    </tr>\n",
              "  </tbody>\n",
              "</table>\n",
              "</div>"
            ],
            "text/plain": [
              "   order_id     products\n",
              "0   1528013        21903\n",
              "1   1376945  14947 27959\n",
              "2   2161313        37710\n",
              "3   1416320   5134 21903\n",
              "4   1980631   6184 13575"
            ]
          },
          "metadata": {
            "tags": []
          },
          "execution_count": 28
        }
      ]
    },
    {
      "cell_type": "code",
      "metadata": {
        "id": "PBPpF-XHYxf5",
        "colab_type": "code",
        "colab": {}
      },
      "source": [
        "sub_df.to_csv('instacart_submission.csv')"
      ],
      "execution_count": 0,
      "outputs": []
    },
    {
      "cell_type": "code",
      "metadata": {
        "id": "mh2KQ7JG28T_",
        "colab_type": "code",
        "colab": {}
      },
      "source": [
        ""
      ],
      "execution_count": 0,
      "outputs": []
    }
  ]
}